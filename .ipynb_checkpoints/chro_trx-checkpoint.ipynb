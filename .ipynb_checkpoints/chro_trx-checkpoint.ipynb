{
 "cells": [
  {
   "cell_type": "code",
   "execution_count": 2,
   "id": "3315df0d",
   "metadata": {},
   "outputs": [
    {
     "name": "stdout",
     "output_type": "stream",
     "text": [
      "                                                      Txhash     Blockno  \\\n",
      "0x7873f397b97a01d4f83ca57dc68aaeed3e585a1034fd2...  13881661  1650891961   \n",
      "0xf347aefc5ac8bbc6fabc42ca5d97c4c2afa54f343be7f...  13883633  1650895926   \n",
      "0x1f8b258723fa983036a710610a9478dc2001eb1bba84f...  13884447  1650897565   \n",
      "0xb84c66b474dc4d5f5b70229d04303e3f71268fa0d3edb...  13886552  1650901806   \n",
      "0x5e1b402d12c334940dfc0d8eaca125f665aa0a86ee32b...  13886553  1650901809   \n",
      "\n",
      "                                                          UnixTimestamp  \\\n",
      "0x7873f397b97a01d4f83ca57dc68aaeed3e585a1034fd2...  2022-04-25 13:06:01   \n",
      "0xf347aefc5ac8bbc6fabc42ca5d97c4c2afa54f343be7f...  2022-04-25 14:12:06   \n",
      "0x1f8b258723fa983036a710610a9478dc2001eb1bba84f...  2022-04-25 14:39:25   \n",
      "0xb84c66b474dc4d5f5b70229d04303e3f71268fa0d3edb...  2022-04-25 15:50:06   \n",
      "0x5e1b402d12c334940dfc0d8eaca125f665aa0a86ee32b...  2022-04-25 15:50:09   \n",
      "\n",
      "                                                                                      DateTime  \\\n",
      "0x7873f397b97a01d4f83ca57dc68aaeed3e585a1034fd2...  0xdff8732c1f84c25c484cf6c21a709881235a204b   \n",
      "0xf347aefc5ac8bbc6fabc42ca5d97c4c2afa54f343be7f...  0xdff8732c1f84c25c484cf6c21a709881235a204b   \n",
      "0x1f8b258723fa983036a710610a9478dc2001eb1bba84f...  0xdff8732c1f84c25c484cf6c21a709881235a204b   \n",
      "0xb84c66b474dc4d5f5b70229d04303e3f71268fa0d3edb...  0xdff8732c1f84c25c484cf6c21a709881235a204b   \n",
      "0x5e1b402d12c334940dfc0d8eaca125f665aa0a86ee32b...  0xdff8732c1f84c25c484cf6c21a709881235a204b   \n",
      "\n",
      "                                                                                          From  \\\n",
      "0x7873f397b97a01d4f83ca57dc68aaeed3e585a1034fd2...                                         NaN   \n",
      "0xf347aefc5ac8bbc6fabc42ca5d97c4c2afa54f343be7f...  0x3f1bf4a74ea765162e6cf49a13e7b6dcb69e17d3   \n",
      "0x1f8b258723fa983036a710610a9478dc2001eb1bba84f...  0x3f1bf4a74ea765162e6cf49a13e7b6dcb69e17d3   \n",
      "0xb84c66b474dc4d5f5b70229d04303e3f71268fa0d3edb...  0x3f1bf4a74ea765162e6cf49a13e7b6dcb69e17d3   \n",
      "0x5e1b402d12c334940dfc0d8eaca125f665aa0a86ee32b...  0x3f1bf4a74ea765162e6cf49a13e7b6dcb69e17d3   \n",
      "\n",
      "                                                                                            To  \\\n",
      "0x7873f397b97a01d4f83ca57dc68aaeed3e585a1034fd2...  0x3f1bf4a74ea765162e6cf49a13e7b6dcb69e17d3   \n",
      "0xf347aefc5ac8bbc6fabc42ca5d97c4c2afa54f343be7f...                                         NaN   \n",
      "0x1f8b258723fa983036a710610a9478dc2001eb1bba84f...                                         NaN   \n",
      "0xb84c66b474dc4d5f5b70229d04303e3f71268fa0d3edb...                                         NaN   \n",
      "0x5e1b402d12c334940dfc0d8eaca125f665aa0a86ee32b...                                         NaN   \n",
      "\n",
      "                                                    ContractAddress  \\\n",
      "0x7873f397b97a01d4f83ca57dc68aaeed3e585a1034fd2...                0   \n",
      "0xf347aefc5ac8bbc6fabc42ca5d97c4c2afa54f343be7f...                0   \n",
      "0x1f8b258723fa983036a710610a9478dc2001eb1bba84f...                0   \n",
      "0xb84c66b474dc4d5f5b70229d04303e3f71268fa0d3edb...                0   \n",
      "0x5e1b402d12c334940dfc0d8eaca125f665aa0a86ee32b...                0   \n",
      "\n",
      "                                                    Value_IN(AVAX)  \\\n",
      "0x7873f397b97a01d4f83ca57dc68aaeed3e585a1034fd2...               0   \n",
      "0xf347aefc5ac8bbc6fabc42ca5d97c4c2afa54f343be7f...               0   \n",
      "0x1f8b258723fa983036a710610a9478dc2001eb1bba84f...               0   \n",
      "0xb84c66b474dc4d5f5b70229d04303e3f71268fa0d3edb...               0   \n",
      "0x5e1b402d12c334940dfc0d8eaca125f665aa0a86ee32b...               0   \n",
      "\n",
      "                                                    Value_OUT(AVAX)  \\\n",
      "0x7873f397b97a01d4f83ca57dc68aaeed3e585a1034fd2...                0   \n",
      "0xf347aefc5ac8bbc6fabc42ca5d97c4c2afa54f343be7f...                0   \n",
      "0x1f8b258723fa983036a710610a9478dc2001eb1bba84f...                0   \n",
      "0xb84c66b474dc4d5f5b70229d04303e3f71268fa0d3edb...                0   \n",
      "0x5e1b402d12c334940dfc0d8eaca125f665aa0a86ee32b...                0   \n",
      "\n",
      "                                                    CurrentValue @ $71.99/AVAX  \\\n",
      "0x7873f397b97a01d4f83ca57dc68aaeed3e585a1034fd2...                    0.184779   \n",
      "0xf347aefc5ac8bbc6fabc42ca5d97c4c2afa54f343be7f...                    0.113937   \n",
      "0x1f8b258723fa983036a710610a9478dc2001eb1bba84f...                    1.070034   \n",
      "0xb84c66b474dc4d5f5b70229d04303e3f71268fa0d3edb...                    0.577508   \n",
      "0x5e1b402d12c334940dfc0d8eaca125f665aa0a86ee32b...                    0.031993   \n",
      "\n",
      "                                                    TxnFee(AVAX)  TxnFee(USD)  \\\n",
      "0x7873f397b97a01d4f83ca57dc68aaeed3e585a1034fd2...     13.302208        72.88   \n",
      "0xf347aefc5ac8bbc6fabc42ca5d97c4c2afa54f343be7f...      8.202346        72.88   \n",
      "0x1f8b258723fa983036a710610a9478dc2001eb1bba84f...     77.031769        72.88   \n",
      "0xb84c66b474dc4d5f5b70229d04303e3f71268fa0d3edb...     41.574815        72.88   \n",
      "0x5e1b402d12c334940dfc0d8eaca125f665aa0a86ee32b...      2.303149        72.88   \n",
      "\n",
      "                                                   Historical $Price/AVAX  \\\n",
      "0x7873f397b97a01d4f83ca57dc68aaeed3e585a1034fd2...                    NaN   \n",
      "0xf347aefc5ac8bbc6fabc42ca5d97c4c2afa54f343be7f...                    NaN   \n",
      "0x1f8b258723fa983036a710610a9478dc2001eb1bba84f...                    NaN   \n",
      "0xb84c66b474dc4d5f5b70229d04303e3f71268fa0d3edb...                    NaN   \n",
      "0x5e1b402d12c334940dfc0d8eaca125f665aa0a86ee32b...                    NaN   \n",
      "\n",
      "                                                   Status  \\\n",
      "0x7873f397b97a01d4f83ca57dc68aaeed3e585a1034fd2...    NaN   \n",
      "0xf347aefc5ac8bbc6fabc42ca5d97c4c2afa54f343be7f...    NaN   \n",
      "0x1f8b258723fa983036a710610a9478dc2001eb1bba84f...    NaN   \n",
      "0xb84c66b474dc4d5f5b70229d04303e3f71268fa0d3edb...    NaN   \n",
      "0x5e1b402d12c334940dfc0d8eaca125f665aa0a86ee32b...    NaN   \n",
      "\n",
      "                                                                ErrCode  \\\n",
      "0x7873f397b97a01d4f83ca57dc68aaeed3e585a1034fd2...           0x60806040   \n",
      "0xf347aefc5ac8bbc6fabc42ca5d97c4c2afa54f343be7f...  Batch Add Whitelist   \n",
      "0x1f8b258723fa983036a710610a9478dc2001eb1bba84f...  Batch Add Whitelist   \n",
      "0xb84c66b474dc4d5f5b70229d04303e3f71268fa0d3edb...  Batch Add Whitelist   \n",
      "0x5e1b402d12c334940dfc0d8eaca125f665aa0a86ee32b...  Batch Add Whitelist   \n",
      "\n",
      "                                                    Method  \n",
      "0x7873f397b97a01d4f83ca57dc68aaeed3e585a1034fd2...     NaN  \n",
      "0xf347aefc5ac8bbc6fabc42ca5d97c4c2afa54f343be7f...     NaN  \n",
      "0x1f8b258723fa983036a710610a9478dc2001eb1bba84f...     NaN  \n",
      "0xb84c66b474dc4d5f5b70229d04303e3f71268fa0d3edb...     NaN  \n",
      "0x5e1b402d12c334940dfc0d8eaca125f665aa0a86ee32b...     NaN  \n"
     ]
    }
   ],
   "source": [
    "import pandas as pd\n",
    "\n",
    "trx = pd.read_csv('chro_trx.csv')\n",
    "\n",
    "print(trx.head(5))"
   ]
  },
  {
   "cell_type": "code",
   "execution_count": 4,
   "id": "91c3c411",
   "metadata": {},
   "outputs": [
    {
     "data": {
      "text/plain": [
       "Index(['Txhash', 'Blockno', 'UnixTimestamp', 'DateTime', 'From', 'To',\n",
       "       'ContractAddress', 'Value_IN(AVAX)', 'Value_OUT(AVAX)',\n",
       "       'CurrentValue @ $71.99/AVAX', 'TxnFee(AVAX)', 'TxnFee(USD)',\n",
       "       'Historical $Price/AVAX', 'Status', 'ErrCode', 'Method'],\n",
       "      dtype='object')"
      ]
     },
     "execution_count": 4,
     "metadata": {},
     "output_type": "execute_result"
    }
   ],
   "source": [
    "# Read Headers\n",
    "trx.columns"
   ]
  },
  {
   "cell_type": "code",
   "execution_count": null,
   "id": "a9cbf2ac",
   "metadata": {},
   "outputs": [],
   "source": [
    "print(tx[['Txhash','DateTime','Value_IN(AVAX)']])"
   ]
  }
 ],
 "metadata": {
  "kernelspec": {
   "display_name": "Python 3 (ipykernel)",
   "language": "python",
   "name": "python3"
  },
  "language_info": {
   "codemirror_mode": {
    "name": "ipython",
    "version": 3
   },
   "file_extension": ".py",
   "mimetype": "text/x-python",
   "name": "python",
   "nbconvert_exporter": "python",
   "pygments_lexer": "ipython3",
   "version": "3.8.12"
  }
 },
 "nbformat": 4,
 "nbformat_minor": 5
}
