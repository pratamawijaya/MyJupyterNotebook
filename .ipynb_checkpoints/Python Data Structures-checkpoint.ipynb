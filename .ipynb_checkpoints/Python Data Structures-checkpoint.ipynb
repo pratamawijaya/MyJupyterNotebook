{
 "cells": [
  {
   "cell_type": "markdown",
   "id": "f75d418e",
   "metadata": {},
   "source": [
    "## Sequneces : String, List Tuple\n",
    "\n",
    "indexing : \n"
   ]
  },
  {
   "cell_type": "code",
   "execution_count": 1,
   "id": "ecbe93f7",
   "metadata": {},
   "outputs": [
    {
     "name": "stdout",
     "output_type": "stream",
     "text": [
      "g\n"
     ]
    }
   ],
   "source": [
    "#string\n",
    "x = 'frog'\n",
    "print (x[3])"
   ]
  },
  {
   "cell_type": "markdown",
   "id": "8295a3c3",
   "metadata": {},
   "source": [
    "Slicing - slice out substrings, sublist, subtuples using indexes,\n",
    "[start: end+1:step]\n",
    "\n"
   ]
  },
  {
   "cell_type": "code",
   "execution_count": 3,
   "id": "2dfff561",
   "metadata": {},
   "outputs": [
    {
     "name": "stdout",
     "output_type": "stream",
     "text": [
      "omp\n",
      "opt\n",
      "puter\n",
      "compu\n"
     ]
    }
   ],
   "source": [
    "x = 'computer'\n",
    "print(x[1:4])\n",
    "print(x[1:6:2])\n",
    "print(x[3:])\n",
    "print(x[:5])"
   ]
  },
  {
   "cell_type": "markdown",
   "id": "81f2ebb7",
   "metadata": {},
   "source": [
    "adding / concatenating  - combine 2 sequences of the same type by using +"
   ]
  },
  {
   "cell_type": "code",
   "execution_count": 6,
   "id": "f07bec61",
   "metadata": {},
   "outputs": [
    {
     "name": "stdout",
     "output_type": "stream",
     "text": [
      "horseshoe\n",
      "['ping', 'cow', 'horse']\n",
      "('Kevin', 'Niklas', 'Craig')\n"
     ]
    }
   ],
   "source": [
    "# string\n",
    "x = 'horse' + 'shoe'\n",
    "print(x)\n",
    "\n",
    "# list\n",
    "y = ['ping', 'cow'] + ['horse']\n",
    "print(y)\n",
    "\n",
    "# tuple\n",
    "z = ('Kevin','Niklas') + ('Craig',)\n",
    "print(z)\n"
   ]
  },
  {
   "cell_type": "code",
   "execution_count": null,
   "id": "14cac325",
   "metadata": {},
   "outputs": [],
   "source": []
  }
 ],
 "metadata": {
  "kernelspec": {
   "display_name": "Python 3 (ipykernel)",
   "language": "python",
   "name": "python3"
  },
  "language_info": {
   "codemirror_mode": {
    "name": "ipython",
    "version": 3
   },
   "file_extension": ".py",
   "mimetype": "text/x-python",
   "name": "python",
   "nbconvert_exporter": "python",
   "pygments_lexer": "ipython3",
   "version": "3.7.3"
  }
 },
 "nbformat": 4,
 "nbformat_minor": 5
}
