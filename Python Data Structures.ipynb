{
 "cells": [
  {
   "cell_type": "markdown",
   "source": [
    "# Sequences : String, List Tuple\n",
    "\n",
    "indexing : \n"
   ],
   "metadata": {}
  },
  {
   "cell_type": "code",
   "execution_count": 1,
   "source": [
    "#string\n",
    "x = 'frog'\n",
    "print (x[3])"
   ],
   "outputs": [
    {
     "output_type": "stream",
     "name": "stdout",
     "text": [
      "g\n"
     ]
    }
   ],
   "metadata": {}
  },
  {
   "cell_type": "markdown",
   "source": [
    "**Slicing** - slice out substrings, sublist, subtuples using indexes,\n",
    "[start: end+1:step]\n",
    "\n"
   ],
   "metadata": {}
  },
  {
   "cell_type": "code",
   "execution_count": 2,
   "source": [
    "x = 'computer'\n",
    "print(x[1:4])\n",
    "print(x[1:6:2])\n",
    "print(x[3:])\n",
    "print(x[:5])"
   ],
   "outputs": [
    {
     "output_type": "stream",
     "name": "stdout",
     "text": [
      "omp\n",
      "opt\n",
      "puter\n",
      "compu\n"
     ]
    }
   ],
   "metadata": {}
  },
  {
   "cell_type": "markdown",
   "source": [
    "adding / concatenating  - combine 2 sequences of the same type by using +"
   ],
   "metadata": {}
  },
  {
   "cell_type": "code",
   "execution_count": 6,
   "source": [
    "# string\n",
    "x = 'horse' + 'shoe'\n",
    "print(x)\n",
    "\n",
    "# list\n",
    "y = ['ping', 'cow'] + ['horse']\n",
    "print(y)\n",
    "\n",
    "# tuple\n",
    "z = ('Kevin','Niklas') + ('Craig',)\n",
    "print(z)\n"
   ],
   "outputs": [
    {
     "output_type": "stream",
     "name": "stdout",
     "text": [
      "horseshoe\n",
      "['ping', 'cow', 'horse']\n",
      "('Kevin', 'Niklas', 'Craig')\n"
     ]
    }
   ],
   "metadata": {}
  },
  {
   "cell_type": "markdown",
   "source": [
    "Checking Membership - test whether an items is or isn't in a sequence"
   ],
   "metadata": {}
  },
  {
   "cell_type": "code",
   "execution_count": 5,
   "source": [
    "x = 'bug'\n",
    "print('u' in x )\n",
    "\n",
    "y = ['pig', 'dog', 'horse']\n",
    "print('cow' not in y)\n",
    "\n",
    "z = ('Beny','Sultan','Jenny')\n",
    "print('Beny' in z)"
   ],
   "outputs": [
    {
     "output_type": "stream",
     "name": "stdout",
     "text": [
      "True\n",
      "True\n",
      "True\n"
     ]
    }
   ],
   "metadata": {}
  },
  {
   "cell_type": "markdown",
   "source": [
    "Iterating = iterating through the items in a sequence"
   ],
   "metadata": {}
  },
  {
   "cell_type": "code",
   "execution_count": 7,
   "source": [
    "x = [7, 8, 9]\n",
    "for item in x:\n",
    "    print(item)\n",
    "\n",
    "y = [7,8,9]\n",
    "for index, item in enumerate(y):\n",
    "    print(index,item)"
   ],
   "outputs": [
    {
     "output_type": "stream",
     "name": "stdout",
     "text": [
      "7\n",
      "8\n",
      "9\n",
      "0 7\n",
      "1 8\n",
      "2 9\n"
     ]
    }
   ],
   "metadata": {}
  },
  {
   "cell_type": "markdown",
   "source": [
    "number of items - count the number of items in a sequences"
   ],
   "metadata": {}
  },
  {
   "cell_type": "code",
   "execution_count": 8,
   "source": [
    "x = 'bug'\n",
    "print(len(x))\n",
    "\n",
    "y = ['baby','cow','horse']\n",
    "print(len(y))"
   ],
   "outputs": [
    {
     "output_type": "stream",
     "name": "stdout",
     "text": [
      "3\n",
      "3\n"
     ]
    }
   ],
   "metadata": {}
  }
 ],
 "metadata": {
  "kernelspec": {
   "name": "python3",
   "display_name": "Python 3.7.3 64-bit ('venv': venv)"
  },
  "language_info": {
   "codemirror_mode": {
    "name": "ipython",
    "version": 3
   },
   "file_extension": ".py",
   "mimetype": "text/x-python",
   "name": "python",
   "nbconvert_exporter": "python",
   "pygments_lexer": "ipython3",
   "version": "3.7.3"
  },
  "interpreter": {
   "hash": "846c0054d1fe724c6034293761075c039dbdcf056eb12e5630b173b0654001b8"
  }
 },
 "nbformat": 4,
 "nbformat_minor": 5
}