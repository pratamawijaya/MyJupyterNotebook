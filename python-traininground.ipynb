{
 "cells": [
  {
   "cell_type": "markdown",
   "id": "4d76e634",
   "metadata": {},
   "source": [
    "## Example of pydantic\n",
    "data validation and setting management"
   ]
  },
  {
   "cell_type": "code",
   "execution_count": 3,
   "id": "d296124b",
   "metadata": {},
   "outputs": [],
   "source": [
    "from datetime import datetime\n",
    "from typing import List, Optional\n",
    "from pydantic import BaseModel\n",
    "\n",
    "class User(BaseModel):\n",
    "    id: int\n",
    "    name = 'John Doe'\n",
    "    signup_ts: Optional[datetime] = None\n",
    "    friends: List[int] = []\n",
    "        \n",
    "external_data = {\n",
    "    'id': '123',\n",
    "    'signup_ts': '2019-06-01 12:22',\n",
    "    'friends': [1, 2, '3'],\n",
    "}"
   ]
  },
  {
   "cell_type": "code",
   "execution_count": 4,
   "id": "06286ba1",
   "metadata": {},
   "outputs": [
    {
     "name": "stdout",
     "output_type": "stream",
     "text": [
      "123\n"
     ]
    }
   ],
   "source": [
    "user = User(**external_data)\n",
    "print(user.id)"
   ]
  },
  {
   "cell_type": "code",
   "execution_count": 5,
   "id": "d39f8751",
   "metadata": {},
   "outputs": [
    {
     "name": "stdout",
     "output_type": "stream",
     "text": [
      "datetime.datetime(2019, 6, 1, 12, 22)\n"
     ]
    }
   ],
   "source": [
    "print(repr(user.signup_ts))"
   ]
  },
  {
   "cell_type": "code",
   "execution_count": 6,
   "id": "44ed0229",
   "metadata": {},
   "outputs": [
    {
     "name": "stdout",
     "output_type": "stream",
     "text": [
      "[1, 2, 3]\n"
     ]
    }
   ],
   "source": [
    "print(user.friends)"
   ]
  },
  {
   "cell_type": "code",
   "execution_count": 7,
   "id": "58962f85",
   "metadata": {},
   "outputs": [
    {
     "name": "stdout",
     "output_type": "stream",
     "text": [
      "{'id': 123, 'signup_ts': datetime.datetime(2019, 6, 1, 12, 22), 'friends': [1, 2, 3], 'name': 'John Doe'}\n"
     ]
    }
   ],
   "source": [
    "print(user.dict())"
   ]
  },
  {
   "cell_type": "code",
   "execution_count": null,
   "id": "c35448e6",
   "metadata": {},
   "outputs": [],
   "source": []
  }
 ],
 "metadata": {
  "kernelspec": {
   "display_name": "Python 3 (ipykernel)",
   "language": "python",
   "name": "python3"
  },
  "language_info": {
   "codemirror_mode": {
    "name": "ipython",
    "version": 3
   },
   "file_extension": ".py",
   "mimetype": "text/x-python",
   "name": "python",
   "nbconvert_exporter": "python",
   "pygments_lexer": "ipython3",
   "version": "3.7.3"
  }
 },
 "nbformat": 4,
 "nbformat_minor": 5
}
