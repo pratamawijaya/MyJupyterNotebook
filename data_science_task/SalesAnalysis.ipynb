{
 "cells": [
  {
   "cell_type": "markdown",
   "metadata": {},
   "source": [
    "## Setup Dependency"
   ]
  },
  {
   "cell_type": "code",
   "execution_count": 1,
   "metadata": {},
   "outputs": [],
   "source": [
    "import pandas as pd\n",
    "import os "
   ]
  },
  {
   "cell_type": "markdown",
   "metadata": {},
   "source": [
    "### Task 1 : merge 12 month sales data into single csv file"
   ]
  },
  {
   "cell_type": "code",
   "execution_count": 2,
   "metadata": {},
   "outputs": [],
   "source": [
    "files = [file for file in os.listdir('./Salesdata')]\n",
    "\n",
    "all_month_data = pd.DataFrame()\n",
    "\n",
    "for file in files:\n",
    "    df = pd.read_csv(\"./Salesdata/\"+file)\n",
    "    all_month_data = pd.concat([all_month_data, df])\n",
    "\n",
    "all_month_data.to_csv(\"all_data.csv\", index = False)\n"
   ]
  },
  {
   "cell_type": "markdown",
   "metadata": {},
   "source": [
    "### Read in updated dataframe"
   ]
  },
  {
   "cell_type": "code",
   "execution_count": 3,
   "metadata": {},
   "outputs": [
    {
     "data": {
      "text/html": [
       "<div>\n",
       "<style scoped>\n",
       "    .dataframe tbody tr th:only-of-type {\n",
       "        vertical-align: middle;\n",
       "    }\n",
       "\n",
       "    .dataframe tbody tr th {\n",
       "        vertical-align: top;\n",
       "    }\n",
       "\n",
       "    .dataframe thead th {\n",
       "        text-align: right;\n",
       "    }\n",
       "</style>\n",
       "<table border=\"1\" class=\"dataframe\">\n",
       "  <thead>\n",
       "    <tr style=\"text-align: right;\">\n",
       "      <th></th>\n",
       "      <th>Order ID</th>\n",
       "      <th>Product</th>\n",
       "      <th>Quantity Ordered</th>\n",
       "      <th>Price Each</th>\n",
       "      <th>Order Date</th>\n",
       "      <th>Purchase Address</th>\n",
       "    </tr>\n",
       "  </thead>\n",
       "  <tbody>\n",
       "    <tr>\n",
       "      <th>0</th>\n",
       "      <td>295665</td>\n",
       "      <td>Macbook Pro Laptop</td>\n",
       "      <td>1</td>\n",
       "      <td>1700</td>\n",
       "      <td>12/30/19 00:01</td>\n",
       "      <td>136 Church St, New York City, NY 10001</td>\n",
       "    </tr>\n",
       "    <tr>\n",
       "      <th>1</th>\n",
       "      <td>295666</td>\n",
       "      <td>LG Washing Machine</td>\n",
       "      <td>1</td>\n",
       "      <td>600.0</td>\n",
       "      <td>12/29/19 07:03</td>\n",
       "      <td>562 2nd St, New York City, NY 10001</td>\n",
       "    </tr>\n",
       "    <tr>\n",
       "      <th>2</th>\n",
       "      <td>295667</td>\n",
       "      <td>USB-C Charging Cable</td>\n",
       "      <td>1</td>\n",
       "      <td>11.95</td>\n",
       "      <td>12/12/19 18:21</td>\n",
       "      <td>277 Main St, New York City, NY 10001</td>\n",
       "    </tr>\n",
       "    <tr>\n",
       "      <th>3</th>\n",
       "      <td>295668</td>\n",
       "      <td>27in FHD Monitor</td>\n",
       "      <td>1</td>\n",
       "      <td>149.99</td>\n",
       "      <td>12/22/19 15:13</td>\n",
       "      <td>410 6th St, San Francisco, CA 94016</td>\n",
       "    </tr>\n",
       "    <tr>\n",
       "      <th>4</th>\n",
       "      <td>295669</td>\n",
       "      <td>USB-C Charging Cable</td>\n",
       "      <td>1</td>\n",
       "      <td>11.95</td>\n",
       "      <td>12/18/19 12:38</td>\n",
       "      <td>43 Hill St, Atlanta, GA 30301</td>\n",
       "    </tr>\n",
       "  </tbody>\n",
       "</table>\n",
       "</div>"
      ],
      "text/plain": [
       "  Order ID               Product Quantity Ordered Price Each      Order Date  \\\n",
       "0   295665    Macbook Pro Laptop                1       1700  12/30/19 00:01   \n",
       "1   295666    LG Washing Machine                1      600.0  12/29/19 07:03   \n",
       "2   295667  USB-C Charging Cable                1      11.95  12/12/19 18:21   \n",
       "3   295668      27in FHD Monitor                1     149.99  12/22/19 15:13   \n",
       "4   295669  USB-C Charging Cable                1      11.95  12/18/19 12:38   \n",
       "\n",
       "                         Purchase Address  \n",
       "0  136 Church St, New York City, NY 10001  \n",
       "1     562 2nd St, New York City, NY 10001  \n",
       "2    277 Main St, New York City, NY 10001  \n",
       "3     410 6th St, San Francisco, CA 94016  \n",
       "4           43 Hill St, Atlanta, GA 30301  "
      ]
     },
     "execution_count": 3,
     "metadata": {},
     "output_type": "execute_result"
    }
   ],
   "source": [
    "all_data = pd.read_csv(\"all_data.csv\")\n",
    "all_data.head()"
   ]
  },
  {
   "cell_type": "markdown",
   "metadata": {},
   "source": [
    "## Clean up the data"
   ]
  },
  {
   "cell_type": "markdown",
   "metadata": {},
   "source": [
    "### Drop rows NaN"
   ]
  },
  {
   "cell_type": "code",
   "execution_count": 9,
   "metadata": {},
   "outputs": [
    {
     "data": {
      "text/html": [
       "<div>\n",
       "<style scoped>\n",
       "    .dataframe tbody tr th:only-of-type {\n",
       "        vertical-align: middle;\n",
       "    }\n",
       "\n",
       "    .dataframe tbody tr th {\n",
       "        vertical-align: top;\n",
       "    }\n",
       "\n",
       "    .dataframe thead th {\n",
       "        text-align: right;\n",
       "    }\n",
       "</style>\n",
       "<table border=\"1\" class=\"dataframe\">\n",
       "  <thead>\n",
       "    <tr style=\"text-align: right;\">\n",
       "      <th></th>\n",
       "      <th>Order ID</th>\n",
       "      <th>Product</th>\n",
       "      <th>Quantity Ordered</th>\n",
       "      <th>Price Each</th>\n",
       "      <th>Order Date</th>\n",
       "      <th>Purchase Address</th>\n",
       "      <th>Month</th>\n",
       "    </tr>\n",
       "  </thead>\n",
       "  <tbody>\n",
       "    <tr>\n",
       "      <th>0</th>\n",
       "      <td>295665</td>\n",
       "      <td>Macbook Pro Laptop</td>\n",
       "      <td>1</td>\n",
       "      <td>1700</td>\n",
       "      <td>12/30/19 00:01</td>\n",
       "      <td>136 Church St, New York City, NY 10001</td>\n",
       "      <td>12</td>\n",
       "    </tr>\n",
       "    <tr>\n",
       "      <th>1</th>\n",
       "      <td>295666</td>\n",
       "      <td>LG Washing Machine</td>\n",
       "      <td>1</td>\n",
       "      <td>600.0</td>\n",
       "      <td>12/29/19 07:03</td>\n",
       "      <td>562 2nd St, New York City, NY 10001</td>\n",
       "      <td>12</td>\n",
       "    </tr>\n",
       "    <tr>\n",
       "      <th>2</th>\n",
       "      <td>295667</td>\n",
       "      <td>USB-C Charging Cable</td>\n",
       "      <td>1</td>\n",
       "      <td>11.95</td>\n",
       "      <td>12/12/19 18:21</td>\n",
       "      <td>277 Main St, New York City, NY 10001</td>\n",
       "      <td>12</td>\n",
       "    </tr>\n",
       "    <tr>\n",
       "      <th>3</th>\n",
       "      <td>295668</td>\n",
       "      <td>27in FHD Monitor</td>\n",
       "      <td>1</td>\n",
       "      <td>149.99</td>\n",
       "      <td>12/22/19 15:13</td>\n",
       "      <td>410 6th St, San Francisco, CA 94016</td>\n",
       "      <td>12</td>\n",
       "    </tr>\n",
       "    <tr>\n",
       "      <th>4</th>\n",
       "      <td>295669</td>\n",
       "      <td>USB-C Charging Cable</td>\n",
       "      <td>1</td>\n",
       "      <td>11.95</td>\n",
       "      <td>12/18/19 12:38</td>\n",
       "      <td>43 Hill St, Atlanta, GA 30301</td>\n",
       "      <td>12</td>\n",
       "    </tr>\n",
       "  </tbody>\n",
       "</table>\n",
       "</div>"
      ],
      "text/plain": [
       "  Order ID               Product Quantity Ordered Price Each      Order Date  \\\n",
       "0   295665    Macbook Pro Laptop                1       1700  12/30/19 00:01   \n",
       "1   295666    LG Washing Machine                1      600.0  12/29/19 07:03   \n",
       "2   295667  USB-C Charging Cable                1      11.95  12/12/19 18:21   \n",
       "3   295668      27in FHD Monitor                1     149.99  12/22/19 15:13   \n",
       "4   295669  USB-C Charging Cable                1      11.95  12/18/19 12:38   \n",
       "\n",
       "                         Purchase Address Month  \n",
       "0  136 Church St, New York City, NY 10001    12  \n",
       "1     562 2nd St, New York City, NY 10001    12  \n",
       "2    277 Main St, New York City, NY 10001    12  \n",
       "3     410 6th St, San Francisco, CA 94016    12  \n",
       "4           43 Hill St, Atlanta, GA 30301    12  "
      ]
     },
     "execution_count": 9,
     "metadata": {},
     "output_type": "execute_result"
    }
   ],
   "source": [
    "nan_df = all_data[all_data.isna().any(axis=1)]\n",
    "nan_df.head()\n",
    "\n",
    "all_data = all_data.dropna(how='all')\n",
    "all_data.head()"
   ]
  },
  {
   "cell_type": "code",
   "execution_count": null,
   "metadata": {},
   "outputs": [],
   "source": []
  },
  {
   "cell_type": "markdown",
   "metadata": {},
   "source": [
    "## Augment Data with additional columns"
   ]
  },
  {
   "cell_type": "markdown",
   "metadata": {},
   "source": [
    "### Task: add month columnt"
   ]
  },
  {
   "cell_type": "code",
   "execution_count": 7,
   "metadata": {},
   "outputs": [
    {
     "ename": "ValueError",
     "evalue": "invalid literal for int() with base 10: 'Or'",
     "output_type": "error",
     "traceback": [
      "\u001b[0;31m---------------------------------------------------------------------------\u001b[0m",
      "\u001b[0;31mValueError\u001b[0m                                Traceback (most recent call last)",
      "\u001b[1;32m/Users/pratamanurwijaya/Documents/Workspaces/Python/JupyterNotebook/data_science_task/SalesAnalysis.ipynb Cell 9'\u001b[0m in \u001b[0;36m<cell line: 2>\u001b[0;34m()\u001b[0m\n\u001b[1;32m      <a href='vscode-notebook-cell:/Users/pratamanurwijaya/Documents/Workspaces/Python/JupyterNotebook/data_science_task/SalesAnalysis.ipynb#ch0000012?line=0'>1</a>\u001b[0m all_data[\u001b[39m'\u001b[39m\u001b[39mMonth\u001b[39m\u001b[39m'\u001b[39m] \u001b[39m=\u001b[39m all_data[\u001b[39m'\u001b[39m\u001b[39mOrder Date\u001b[39m\u001b[39m'\u001b[39m]\u001b[39m.\u001b[39mstr[\u001b[39m0\u001b[39m:\u001b[39m2\u001b[39m]\n\u001b[0;32m----> <a href='vscode-notebook-cell:/Users/pratamanurwijaya/Documents/Workspaces/Python/JupyterNotebook/data_science_task/SalesAnalysis.ipynb#ch0000012?line=1'>2</a>\u001b[0m all_data[\u001b[39m'\u001b[39m\u001b[39mMonth\u001b[39m\u001b[39m'\u001b[39m] \u001b[39m=\u001b[39m all_data[\u001b[39m'\u001b[39;49m\u001b[39mMonth\u001b[39;49m\u001b[39m'\u001b[39;49m]\u001b[39m.\u001b[39;49mastype(\u001b[39m'\u001b[39;49m\u001b[39mint32\u001b[39;49m\u001b[39m'\u001b[39;49m)\n\u001b[1;32m      <a href='vscode-notebook-cell:/Users/pratamanurwijaya/Documents/Workspaces/Python/JupyterNotebook/data_science_task/SalesAnalysis.ipynb#ch0000012?line=2'>3</a>\u001b[0m all_data\u001b[39m.\u001b[39mhead()\n",
      "File \u001b[0;32m~/.pyenv/versions/3.8.12/lib/python3.8/site-packages/pandas/core/generic.py:5912\u001b[0m, in \u001b[0;36mNDFrame.astype\u001b[0;34m(self, dtype, copy, errors)\u001b[0m\n\u001b[1;32m   <a href='file:///Users/pratamanurwijaya/.pyenv/versions/3.8.12/lib/python3.8/site-packages/pandas/core/generic.py?line=5904'>5905</a>\u001b[0m     results \u001b[39m=\u001b[39m [\n\u001b[1;32m   <a href='file:///Users/pratamanurwijaya/.pyenv/versions/3.8.12/lib/python3.8/site-packages/pandas/core/generic.py?line=5905'>5906</a>\u001b[0m         \u001b[39mself\u001b[39m\u001b[39m.\u001b[39miloc[:, i]\u001b[39m.\u001b[39mastype(dtype, copy\u001b[39m=\u001b[39mcopy)\n\u001b[1;32m   <a href='file:///Users/pratamanurwijaya/.pyenv/versions/3.8.12/lib/python3.8/site-packages/pandas/core/generic.py?line=5906'>5907</a>\u001b[0m         \u001b[39mfor\u001b[39;00m i \u001b[39min\u001b[39;00m \u001b[39mrange\u001b[39m(\u001b[39mlen\u001b[39m(\u001b[39mself\u001b[39m\u001b[39m.\u001b[39mcolumns))\n\u001b[1;32m   <a href='file:///Users/pratamanurwijaya/.pyenv/versions/3.8.12/lib/python3.8/site-packages/pandas/core/generic.py?line=5907'>5908</a>\u001b[0m     ]\n\u001b[1;32m   <a href='file:///Users/pratamanurwijaya/.pyenv/versions/3.8.12/lib/python3.8/site-packages/pandas/core/generic.py?line=5909'>5910</a>\u001b[0m \u001b[39melse\u001b[39;00m:\n\u001b[1;32m   <a href='file:///Users/pratamanurwijaya/.pyenv/versions/3.8.12/lib/python3.8/site-packages/pandas/core/generic.py?line=5910'>5911</a>\u001b[0m     \u001b[39m# else, only a single dtype is given\u001b[39;00m\n\u001b[0;32m-> <a href='file:///Users/pratamanurwijaya/.pyenv/versions/3.8.12/lib/python3.8/site-packages/pandas/core/generic.py?line=5911'>5912</a>\u001b[0m     new_data \u001b[39m=\u001b[39m \u001b[39mself\u001b[39;49m\u001b[39m.\u001b[39;49m_mgr\u001b[39m.\u001b[39;49mastype(dtype\u001b[39m=\u001b[39;49mdtype, copy\u001b[39m=\u001b[39;49mcopy, errors\u001b[39m=\u001b[39;49merrors)\n\u001b[1;32m   <a href='file:///Users/pratamanurwijaya/.pyenv/versions/3.8.12/lib/python3.8/site-packages/pandas/core/generic.py?line=5912'>5913</a>\u001b[0m     \u001b[39mreturn\u001b[39;00m \u001b[39mself\u001b[39m\u001b[39m.\u001b[39m_constructor(new_data)\u001b[39m.\u001b[39m__finalize__(\u001b[39mself\u001b[39m, method\u001b[39m=\u001b[39m\u001b[39m\"\u001b[39m\u001b[39mastype\u001b[39m\u001b[39m\"\u001b[39m)\n\u001b[1;32m   <a href='file:///Users/pratamanurwijaya/.pyenv/versions/3.8.12/lib/python3.8/site-packages/pandas/core/generic.py?line=5914'>5915</a>\u001b[0m \u001b[39m# GH 33113: handle empty frame or series\u001b[39;00m\n",
      "File \u001b[0;32m~/.pyenv/versions/3.8.12/lib/python3.8/site-packages/pandas/core/internals/managers.py:419\u001b[0m, in \u001b[0;36mBaseBlockManager.astype\u001b[0;34m(self, dtype, copy, errors)\u001b[0m\n\u001b[1;32m    <a href='file:///Users/pratamanurwijaya/.pyenv/versions/3.8.12/lib/python3.8/site-packages/pandas/core/internals/managers.py?line=417'>418</a>\u001b[0m \u001b[39mdef\u001b[39;00m \u001b[39mastype\u001b[39m(\u001b[39mself\u001b[39m: T, dtype, copy: \u001b[39mbool\u001b[39m \u001b[39m=\u001b[39m \u001b[39mFalse\u001b[39;00m, errors: \u001b[39mstr\u001b[39m \u001b[39m=\u001b[39m \u001b[39m\"\u001b[39m\u001b[39mraise\u001b[39m\u001b[39m\"\u001b[39m) \u001b[39m-\u001b[39m\u001b[39m>\u001b[39m T:\n\u001b[0;32m--> <a href='file:///Users/pratamanurwijaya/.pyenv/versions/3.8.12/lib/python3.8/site-packages/pandas/core/internals/managers.py?line=418'>419</a>\u001b[0m     \u001b[39mreturn\u001b[39;00m \u001b[39mself\u001b[39;49m\u001b[39m.\u001b[39;49mapply(\u001b[39m\"\u001b[39;49m\u001b[39mastype\u001b[39;49m\u001b[39m\"\u001b[39;49m, dtype\u001b[39m=\u001b[39;49mdtype, copy\u001b[39m=\u001b[39;49mcopy, errors\u001b[39m=\u001b[39;49merrors)\n",
      "File \u001b[0;32m~/.pyenv/versions/3.8.12/lib/python3.8/site-packages/pandas/core/internals/managers.py:304\u001b[0m, in \u001b[0;36mBaseBlockManager.apply\u001b[0;34m(self, f, align_keys, ignore_failures, **kwargs)\u001b[0m\n\u001b[1;32m    <a href='file:///Users/pratamanurwijaya/.pyenv/versions/3.8.12/lib/python3.8/site-packages/pandas/core/internals/managers.py?line=301'>302</a>\u001b[0m         applied \u001b[39m=\u001b[39m b\u001b[39m.\u001b[39mapply(f, \u001b[39m*\u001b[39m\u001b[39m*\u001b[39mkwargs)\n\u001b[1;32m    <a href='file:///Users/pratamanurwijaya/.pyenv/versions/3.8.12/lib/python3.8/site-packages/pandas/core/internals/managers.py?line=302'>303</a>\u001b[0m     \u001b[39melse\u001b[39;00m:\n\u001b[0;32m--> <a href='file:///Users/pratamanurwijaya/.pyenv/versions/3.8.12/lib/python3.8/site-packages/pandas/core/internals/managers.py?line=303'>304</a>\u001b[0m         applied \u001b[39m=\u001b[39m \u001b[39mgetattr\u001b[39;49m(b, f)(\u001b[39m*\u001b[39;49m\u001b[39m*\u001b[39;49mkwargs)\n\u001b[1;32m    <a href='file:///Users/pratamanurwijaya/.pyenv/versions/3.8.12/lib/python3.8/site-packages/pandas/core/internals/managers.py?line=304'>305</a>\u001b[0m \u001b[39mexcept\u001b[39;00m (\u001b[39mTypeError\u001b[39;00m, \u001b[39mNotImplementedError\u001b[39;00m):\n\u001b[1;32m    <a href='file:///Users/pratamanurwijaya/.pyenv/versions/3.8.12/lib/python3.8/site-packages/pandas/core/internals/managers.py?line=305'>306</a>\u001b[0m     \u001b[39mif\u001b[39;00m \u001b[39mnot\u001b[39;00m ignore_failures:\n",
      "File \u001b[0;32m~/.pyenv/versions/3.8.12/lib/python3.8/site-packages/pandas/core/internals/blocks.py:580\u001b[0m, in \u001b[0;36mBlock.astype\u001b[0;34m(self, dtype, copy, errors)\u001b[0m\n\u001b[1;32m    <a href='file:///Users/pratamanurwijaya/.pyenv/versions/3.8.12/lib/python3.8/site-packages/pandas/core/internals/blocks.py?line=561'>562</a>\u001b[0m \u001b[39m\"\"\"\u001b[39;00m\n\u001b[1;32m    <a href='file:///Users/pratamanurwijaya/.pyenv/versions/3.8.12/lib/python3.8/site-packages/pandas/core/internals/blocks.py?line=562'>563</a>\u001b[0m \u001b[39mCoerce to the new dtype.\u001b[39;00m\n\u001b[1;32m    <a href='file:///Users/pratamanurwijaya/.pyenv/versions/3.8.12/lib/python3.8/site-packages/pandas/core/internals/blocks.py?line=563'>564</a>\u001b[0m \n\u001b[0;32m   (...)\u001b[0m\n\u001b[1;32m    <a href='file:///Users/pratamanurwijaya/.pyenv/versions/3.8.12/lib/python3.8/site-packages/pandas/core/internals/blocks.py?line=575'>576</a>\u001b[0m \u001b[39mBlock\u001b[39;00m\n\u001b[1;32m    <a href='file:///Users/pratamanurwijaya/.pyenv/versions/3.8.12/lib/python3.8/site-packages/pandas/core/internals/blocks.py?line=576'>577</a>\u001b[0m \u001b[39m\"\"\"\u001b[39;00m\n\u001b[1;32m    <a href='file:///Users/pratamanurwijaya/.pyenv/versions/3.8.12/lib/python3.8/site-packages/pandas/core/internals/blocks.py?line=577'>578</a>\u001b[0m values \u001b[39m=\u001b[39m \u001b[39mself\u001b[39m\u001b[39m.\u001b[39mvalues\n\u001b[0;32m--> <a href='file:///Users/pratamanurwijaya/.pyenv/versions/3.8.12/lib/python3.8/site-packages/pandas/core/internals/blocks.py?line=579'>580</a>\u001b[0m new_values \u001b[39m=\u001b[39m astype_array_safe(values, dtype, copy\u001b[39m=\u001b[39;49mcopy, errors\u001b[39m=\u001b[39;49merrors)\n\u001b[1;32m    <a href='file:///Users/pratamanurwijaya/.pyenv/versions/3.8.12/lib/python3.8/site-packages/pandas/core/internals/blocks.py?line=581'>582</a>\u001b[0m new_values \u001b[39m=\u001b[39m maybe_coerce_values(new_values)\n\u001b[1;32m    <a href='file:///Users/pratamanurwijaya/.pyenv/versions/3.8.12/lib/python3.8/site-packages/pandas/core/internals/blocks.py?line=582'>583</a>\u001b[0m newb \u001b[39m=\u001b[39m \u001b[39mself\u001b[39m\u001b[39m.\u001b[39mmake_block(new_values)\n",
      "File \u001b[0;32m~/.pyenv/versions/3.8.12/lib/python3.8/site-packages/pandas/core/dtypes/cast.py:1292\u001b[0m, in \u001b[0;36mastype_array_safe\u001b[0;34m(values, dtype, copy, errors)\u001b[0m\n\u001b[1;32m   <a href='file:///Users/pratamanurwijaya/.pyenv/versions/3.8.12/lib/python3.8/site-packages/pandas/core/dtypes/cast.py?line=1288'>1289</a>\u001b[0m     dtype \u001b[39m=\u001b[39m dtype\u001b[39m.\u001b[39mnumpy_dtype\n\u001b[1;32m   <a href='file:///Users/pratamanurwijaya/.pyenv/versions/3.8.12/lib/python3.8/site-packages/pandas/core/dtypes/cast.py?line=1290'>1291</a>\u001b[0m \u001b[39mtry\u001b[39;00m:\n\u001b[0;32m-> <a href='file:///Users/pratamanurwijaya/.pyenv/versions/3.8.12/lib/python3.8/site-packages/pandas/core/dtypes/cast.py?line=1291'>1292</a>\u001b[0m     new_values \u001b[39m=\u001b[39m astype_array(values, dtype, copy\u001b[39m=\u001b[39;49mcopy)\n\u001b[1;32m   <a href='file:///Users/pratamanurwijaya/.pyenv/versions/3.8.12/lib/python3.8/site-packages/pandas/core/dtypes/cast.py?line=1292'>1293</a>\u001b[0m \u001b[39mexcept\u001b[39;00m (\u001b[39mValueError\u001b[39;00m, \u001b[39mTypeError\u001b[39;00m):\n\u001b[1;32m   <a href='file:///Users/pratamanurwijaya/.pyenv/versions/3.8.12/lib/python3.8/site-packages/pandas/core/dtypes/cast.py?line=1293'>1294</a>\u001b[0m     \u001b[39m# e.g. astype_nansafe can fail on object-dtype of strings\u001b[39;00m\n\u001b[1;32m   <a href='file:///Users/pratamanurwijaya/.pyenv/versions/3.8.12/lib/python3.8/site-packages/pandas/core/dtypes/cast.py?line=1294'>1295</a>\u001b[0m     \u001b[39m#  trying to convert to float\u001b[39;00m\n\u001b[1;32m   <a href='file:///Users/pratamanurwijaya/.pyenv/versions/3.8.12/lib/python3.8/site-packages/pandas/core/dtypes/cast.py?line=1295'>1296</a>\u001b[0m     \u001b[39mif\u001b[39;00m errors \u001b[39m==\u001b[39m \u001b[39m\"\u001b[39m\u001b[39mignore\u001b[39m\u001b[39m\"\u001b[39m:\n",
      "File \u001b[0;32m~/.pyenv/versions/3.8.12/lib/python3.8/site-packages/pandas/core/dtypes/cast.py:1237\u001b[0m, in \u001b[0;36mastype_array\u001b[0;34m(values, dtype, copy)\u001b[0m\n\u001b[1;32m   <a href='file:///Users/pratamanurwijaya/.pyenv/versions/3.8.12/lib/python3.8/site-packages/pandas/core/dtypes/cast.py?line=1233'>1234</a>\u001b[0m     values \u001b[39m=\u001b[39m values\u001b[39m.\u001b[39mastype(dtype, copy\u001b[39m=\u001b[39mcopy)\n\u001b[1;32m   <a href='file:///Users/pratamanurwijaya/.pyenv/versions/3.8.12/lib/python3.8/site-packages/pandas/core/dtypes/cast.py?line=1235'>1236</a>\u001b[0m \u001b[39melse\u001b[39;00m:\n\u001b[0;32m-> <a href='file:///Users/pratamanurwijaya/.pyenv/versions/3.8.12/lib/python3.8/site-packages/pandas/core/dtypes/cast.py?line=1236'>1237</a>\u001b[0m     values \u001b[39m=\u001b[39m astype_nansafe(values, dtype, copy\u001b[39m=\u001b[39;49mcopy)\n\u001b[1;32m   <a href='file:///Users/pratamanurwijaya/.pyenv/versions/3.8.12/lib/python3.8/site-packages/pandas/core/dtypes/cast.py?line=1238'>1239</a>\u001b[0m \u001b[39m# in pandas we don't store numpy str dtypes, so convert to object\u001b[39;00m\n\u001b[1;32m   <a href='file:///Users/pratamanurwijaya/.pyenv/versions/3.8.12/lib/python3.8/site-packages/pandas/core/dtypes/cast.py?line=1239'>1240</a>\u001b[0m \u001b[39mif\u001b[39;00m \u001b[39misinstance\u001b[39m(dtype, np\u001b[39m.\u001b[39mdtype) \u001b[39mand\u001b[39;00m \u001b[39missubclass\u001b[39m(values\u001b[39m.\u001b[39mdtype\u001b[39m.\u001b[39mtype, \u001b[39mstr\u001b[39m):\n",
      "File \u001b[0;32m~/.pyenv/versions/3.8.12/lib/python3.8/site-packages/pandas/core/dtypes/cast.py:1154\u001b[0m, in \u001b[0;36mastype_nansafe\u001b[0;34m(arr, dtype, copy, skipna)\u001b[0m\n\u001b[1;32m   <a href='file:///Users/pratamanurwijaya/.pyenv/versions/3.8.12/lib/python3.8/site-packages/pandas/core/dtypes/cast.py?line=1149'>1150</a>\u001b[0m \u001b[39melif\u001b[39;00m is_object_dtype(arr\u001b[39m.\u001b[39mdtype):\n\u001b[1;32m   <a href='file:///Users/pratamanurwijaya/.pyenv/versions/3.8.12/lib/python3.8/site-packages/pandas/core/dtypes/cast.py?line=1150'>1151</a>\u001b[0m \n\u001b[1;32m   <a href='file:///Users/pratamanurwijaya/.pyenv/versions/3.8.12/lib/python3.8/site-packages/pandas/core/dtypes/cast.py?line=1151'>1152</a>\u001b[0m     \u001b[39m# work around NumPy brokenness, #1987\u001b[39;00m\n\u001b[1;32m   <a href='file:///Users/pratamanurwijaya/.pyenv/versions/3.8.12/lib/python3.8/site-packages/pandas/core/dtypes/cast.py?line=1152'>1153</a>\u001b[0m     \u001b[39mif\u001b[39;00m np\u001b[39m.\u001b[39missubdtype(dtype\u001b[39m.\u001b[39mtype, np\u001b[39m.\u001b[39minteger):\n\u001b[0;32m-> <a href='file:///Users/pratamanurwijaya/.pyenv/versions/3.8.12/lib/python3.8/site-packages/pandas/core/dtypes/cast.py?line=1153'>1154</a>\u001b[0m         \u001b[39mreturn\u001b[39;00m lib\u001b[39m.\u001b[39;49mastype_intsafe(arr, dtype)\n\u001b[1;32m   <a href='file:///Users/pratamanurwijaya/.pyenv/versions/3.8.12/lib/python3.8/site-packages/pandas/core/dtypes/cast.py?line=1155'>1156</a>\u001b[0m     \u001b[39m# if we have a datetime/timedelta array of objects\u001b[39;00m\n\u001b[1;32m   <a href='file:///Users/pratamanurwijaya/.pyenv/versions/3.8.12/lib/python3.8/site-packages/pandas/core/dtypes/cast.py?line=1156'>1157</a>\u001b[0m     \u001b[39m# then coerce to a proper dtype and recall astype_nansafe\u001b[39;00m\n\u001b[1;32m   <a href='file:///Users/pratamanurwijaya/.pyenv/versions/3.8.12/lib/python3.8/site-packages/pandas/core/dtypes/cast.py?line=1158'>1159</a>\u001b[0m     \u001b[39melif\u001b[39;00m is_datetime64_dtype(dtype):\n",
      "File \u001b[0;32mpandas/_libs/lib.pyx:668\u001b[0m, in \u001b[0;36mpandas._libs.lib.astype_intsafe\u001b[0;34m()\u001b[0m\n",
      "\u001b[0;31mValueError\u001b[0m: invalid literal for int() with base 10: 'Or'"
     ]
    }
   ],
   "source": [
    "all_data['Month'] = all_data['Order Date'].str[0:2]\n",
    "all_data['Month'] = all_data['Month'].astype('int32')\n",
    "all_data.head()"
   ]
  },
  {
   "cell_type": "markdown",
   "metadata": {},
   "source": [
    "### Question : what was the best month for sales ? how much earned that month ?"
   ]
  },
  {
   "cell_type": "code",
   "execution_count": null,
   "metadata": {},
   "outputs": [],
   "source": []
  }
 ],
 "metadata": {
  "interpreter": {
   "hash": "3a9c76bf8b9c893702415bb3c42d03846194c8e9c36398d7657bd7f7c8413797"
  },
  "kernelspec": {
   "display_name": "Python 3.8.12 64-bit ('3.8.12')",
   "language": "python",
   "name": "python3"
  },
  "language_info": {
   "codemirror_mode": {
    "name": "ipython",
    "version": 3
   },
   "file_extension": ".py",
   "mimetype": "text/x-python",
   "name": "python",
   "nbconvert_exporter": "python",
   "pygments_lexer": "ipython3",
   "version": "3.8.12"
  },
  "orig_nbformat": 4
 },
 "nbformat": 4,
 "nbformat_minor": 2
}
